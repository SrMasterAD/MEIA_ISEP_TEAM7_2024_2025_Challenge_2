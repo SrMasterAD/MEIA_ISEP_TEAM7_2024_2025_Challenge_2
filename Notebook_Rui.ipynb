{
 "cells": [
  {
   "cell_type": "code",
   "execution_count": 12,
   "metadata": {},
   "outputs": [
    {
     "name": "stdout",
     "output_type": "stream",
     "text": [
      "Columns in data1: Index(['WineID', 'WineName', 'Type', 'Elaborate', 'Grapes', 'Harmonize', 'ABV',\n",
      "       'Body', 'Acidity', 'Code', 'Country', 'RegionID', 'RegionName',\n",
      "       'WineryID', 'WineryName', 'Website', 'Vintages'],\n",
      "      dtype='object')\n",
      "Columns in data2: Index(['RatingID', 'UserID', 'WineID', 'Vintage', 'Rating', 'Date'], dtype='object')\n",
      "   WineID                         WineName       Type  \\\n",
      "0  100001               Espumante Moscatel  Sparkling   \n",
      "1  100002                       Ancellotta        Red   \n",
      "2  100003               Cabernet Sauvignon        Red   \n",
      "3  100004                   Virtus Moscato      White   \n",
      "4  100005  Maison de Ville Cabernet-Merlot        Red   \n",
      "\n",
      "                       Elaborate                            Grapes  \\\n",
      "0                  Varietal/100%                ['Muscat/Moscato']   \n",
      "1                  Varietal/100%                    ['Ancellotta']   \n",
      "2                  Varietal/100%            ['Cabernet Sauvignon']   \n",
      "3                  Varietal/100%                ['Muscat/Moscato']   \n",
      "4  Assemblage/Bordeaux Red Blend  ['Cabernet Sauvignon', 'Merlot']   \n",
      "\n",
      "                                           Harmonize   ABV           Body  \\\n",
      "0                 ['Pork', 'Rich Fish', 'Shellfish']   7.5  Medium-bodied   \n",
      "1  ['Beef', 'Barbecue', 'Codfish', 'Pasta', 'Pizz...  12.0  Medium-bodied   \n",
      "2                        ['Beef', 'Lamb', 'Poultry']  12.0    Full-bodied   \n",
      "3                                  ['Sweet Dessert']  12.0  Medium-bodied   \n",
      "4           ['Beef', 'Lamb', 'Game Meat', 'Poultry']  11.0    Full-bodied   \n",
      "\n",
      "  Acidity Code Country  RegionID    RegionName  WineryID      WineryName  \\\n",
      "0    High   BR  Brazil      1001  Serra Gaúcha     10001     Casa Perini   \n",
      "1  Medium   BR  Brazil      1001  Serra Gaúcha     10001     Casa Perini   \n",
      "2    High   BR  Brazil      1001  Serra Gaúcha     10002    Castellamare   \n",
      "3  Medium   BR  Brazil      1001  Serra Gaúcha     10003  Monte Paschoal   \n",
      "4  Medium   BR  Brazil      1001  Serra Gaúcha     10000          Aurora   \n",
      "\n",
      "                                  Website  \\\n",
      "0        http://www.vinicolaperini.com.br   \n",
      "1        http://www.vinicolaperini.com.br   \n",
      "2  https://www.emporiocastellamare.com.br   \n",
      "3         http://www.montepaschoal.com.br   \n",
      "4        http://www.vinicolaaurora.com.br   \n",
      "\n",
      "                                            Vintages   Ratings  \n",
      "0  [2020, 2019, 2018, 2017, 2016, 2015, 2014, 201...  4.134476  \n",
      "1  [2016, 2015, 2014, 2013, 2012, 2011, 2010, 200...  3.500000  \n",
      "2  [2021, 2020, 2019, 2018, 2017, 2016, 2015, 201...  3.379032  \n",
      "3  [2021, 2020, 2019, 2018, 2017, 2016, 2015, 201...  3.172727  \n",
      "4  [2021, 2020, 2019, 2018, 2017, 2016, 2015, 201...  2.965278  \n"
     ]
    }
   ],
   "source": [
    "import pandas as pd\n",
    "\n",
    "file1_path = 'datasets/cleaned_100k.csv'\n",
    "data1 = pd.read_csv(file1_path, dtype={'WineID': str}, low_memory=False)\n",
    "\n",
    "file2_path = '/datasets/cleaned_ratings_file.csv'\n",
    "data2 = pd.read_csv(file2_path, dtype={'WineID': str}, low_memory=False)\n",
    "\n",
    "print(\"Columns in data1:\", data1.columns)\n",
    "print(\"Columns in data2:\", data2.columns)\n",
    "\n",
    "mean_ratings = data2.groupby('WineID')['Rating'].mean().reset_index()\n",
    "\n",
    "result = pd.merge(data1, mean_ratings, on='WineID', how='left')\n",
    "\n",
    "result.rename(columns={'Rating': 'Ratings'}, inplace=True)\n",
    "\n",
    "print(result.head())\n",
    "\n",
    "result.to_csv('updated_wines.csv', index=False)\n",
    "\n"
   ]
  },
  {
   "cell_type": "code",
   "execution_count": 11,
   "metadata": {},
   "outputs": [
    {
     "name": "stdout",
     "output_type": "stream",
     "text": [
      "   WineID                         WineName       Type  \\\n",
      "0  100001               Espumante Moscatel  Sparkling   \n",
      "1  100002                       Ancellotta        Red   \n",
      "2  100003               Cabernet Sauvignon        Red   \n",
      "3  100004                   Virtus Moscato      White   \n",
      "4  100005  Maison de Ville Cabernet-Merlot        Red   \n",
      "\n",
      "                       Elaborate                            Grapes  \\\n",
      "0                  Varietal/100%                ['Muscat/Moscato']   \n",
      "1                  Varietal/100%                    ['Ancellotta']   \n",
      "2                  Varietal/100%            ['Cabernet Sauvignon']   \n",
      "3                  Varietal/100%                ['Muscat/Moscato']   \n",
      "4  Assemblage/Bordeaux Red Blend  ['Cabernet Sauvignon', 'Merlot']   \n",
      "\n",
      "                                           Harmonize   ABV           Body  \\\n",
      "0                 ['Pork', 'Rich Fish', 'Shellfish']   7.5  Medium-bodied   \n",
      "1  ['Beef', 'Barbecue', 'Codfish', 'Pasta', 'Pizz...  12.0  Medium-bodied   \n",
      "2                        ['Beef', 'Lamb', 'Poultry']  12.0    Full-bodied   \n",
      "3                                  ['Sweet Dessert']  12.0  Medium-bodied   \n",
      "4           ['Beef', 'Lamb', 'Game Meat', 'Poultry']  11.0    Full-bodied   \n",
      "\n",
      "  Acidity Code Country  RegionID    RegionName  WineryID      WineryName  \\\n",
      "0    High   BR  Brazil      1001  Serra Gaúcha     10001     Casa Perini   \n",
      "1  Medium   BR  Brazil      1001  Serra Gaúcha     10001     Casa Perini   \n",
      "2    High   BR  Brazil      1001  Serra Gaúcha     10002    Castellamare   \n",
      "3  Medium   BR  Brazil      1001  Serra Gaúcha     10003  Monte Paschoal   \n",
      "4  Medium   BR  Brazil      1001  Serra Gaúcha     10000          Aurora   \n",
      "\n",
      "                                  Website  \\\n",
      "0        http://www.vinicolaperini.com.br   \n",
      "1        http://www.vinicolaperini.com.br   \n",
      "2  https://www.emporiocastellamare.com.br   \n",
      "3         http://www.montepaschoal.com.br   \n",
      "4        http://www.vinicolaaurora.com.br   \n",
      "\n",
      "                                            Vintages  \n",
      "0  [2020, 2019, 2018, 2017, 2016, 2015, 2014, 201...  \n",
      "1  [2016, 2015, 2014, 2013, 2012, 2011, 2010, 200...  \n",
      "2  [2021, 2020, 2019, 2018, 2017, 2016, 2015, 201...  \n",
      "3  [2021, 2020, 2019, 2018, 2017, 2016, 2015, 201...  \n",
      "4  [2021, 2020, 2019, 2018, 2017, 2016, 2015, 201...  \n"
     ]
    }
   ],
   "source": [
    "import pandas as pd\n",
    "\n",
    "file2_path = '/datasets/XWines_Full_100k_wines.csv'\n",
    "\n",
    "data2 = pd.read_csv(file2_path)\n",
    "\n",
    "data2['WineID'] = pd.to_numeric(data2['WineID'], errors='coerce')\n",
    "\n",
    "cleaned_data2 = data2.dropna(subset=['WineID'])\n",
    "\n",
    "cleaned_file_path = 'cleaned_100k.csv'\n",
    "cleaned_data2.to_csv(cleaned_file_path, index=False)\n",
    "\n",
    "print(cleaned_data2.head())\n",
    "\n"
   ]
  },
  {
   "cell_type": "code",
   "execution_count": 13,
   "metadata": {},
   "outputs": [
    {
     "name": "stdout",
     "output_type": "stream",
     "text": [
      "Rows with invalid or empty 'Ratings':\n",
      "Empty DataFrame\n",
      "Columns: [WineID, WineName, Type, Elaborate, Grapes, Harmonize, ABV, Body, Acidity, Code, Country, RegionID, RegionName, WineryID, WineryName, Website, Vintages, Ratings]\n",
      "Index: []\n"
     ]
    }
   ],
   "source": [
    "import pandas as pd\n",
    "\n",
    "file2_path = '/datasets/updated_wines.csv'\n",
    "data2 = pd.read_csv(file2_path, dtype={'WineID': str}, low_memory=False)\n",
    "\n",
    "invalid_rows = data2[pd.to_numeric(data2['Ratings'], errors='coerce').isna()]\n",
    "\n",
    "print(\"Rows with invalid or empty 'Ratings':\")\n",
    "print(invalid_rows)\n"
   ]
  },
  {
   "cell_type": "code",
   "execution_count": 14,
   "metadata": {},
   "outputs": [
    {
     "name": "stdout",
     "output_type": "stream",
     "text": [
      "Ratings formatted to two decimal places. The original file has been updated: /Users/ruiribeiro/Desktop/MEIA_ISEP_TEAM7_2024_2025_Challenge_2/updated_wines.csv\n"
     ]
    }
   ],
   "source": [
    "import pandas as pd\n",
    "\n",
    "file2_path = 'datasets/updated_wines.csv'\n",
    "\n",
    "data2 = pd.read_csv(file2_path, dtype={'WineID': str}, low_memory=False)\n",
    "\n",
    "data2['Ratings'] = pd.to_numeric(data2['Ratings'], errors='coerce')\n",
    "\n",
    "data2['Ratings'] = data2['Ratings'].apply(lambda x: f\"{x:.2f}\" if pd.notna(x) else \"\")\n",
    "\n",
    "data2.to_csv(file2_path, index=False)\n",
    "\n",
    "print(f\"Ratings formatted to two decimal places. The original file has been updated: {file2_path}\")\n"
   ]
  },
  {
   "cell_type": "markdown",
   "metadata": {},
   "source": []
  }
 ],
 "metadata": {
  "kernelspec": {
   "display_name": "Python 3",
   "language": "python",
   "name": "python3"
  },
  "language_info": {
   "codemirror_mode": {
    "name": "ipython",
    "version": 3
   },
   "file_extension": ".py",
   "mimetype": "text/x-python",
   "name": "python",
   "nbconvert_exporter": "python",
   "pygments_lexer": "ipython3",
   "version": "3.12.5"
  }
 },
 "nbformat": 4,
 "nbformat_minor": 2
}
