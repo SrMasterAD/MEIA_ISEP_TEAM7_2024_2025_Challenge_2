{
 "cells": [
  {
   "metadata": {},
   "cell_type": "markdown",
   "source": "### Load Data and cleaning unnecessary columns",
   "id": "b29ae5b13128cdd9"
  },
  {
   "cell_type": "code",
   "id": "initial_id",
   "metadata": {
    "collapsed": true,
    "ExecuteTime": {
     "end_time": "2024-12-17T21:28:57.730789Z",
     "start_time": "2024-12-17T21:28:57.721745Z"
    }
   },
   "source": [
    "import pandas as pd\n",
    "import re\n",
    "import numpy as np\n",
    "\n",
    "file_path = '../../datasets/merged_wine_dataset.csv'\n",
    "df = pd.read_csv(file_path)\n",
    "df = df[['Price', 'ABV', 'Acidity']]"
   ],
   "outputs": [],
   "execution_count": 9
  },
  {
   "metadata": {},
   "cell_type": "markdown",
   "source": "### Data Normalization",
   "id": "b8c5e81eff210df"
  },
  {
   "metadata": {
    "ExecuteTime": {
     "end_time": "2024-12-17T21:29:00.157837Z",
     "start_time": "2024-12-17T21:29:00.150439Z"
    }
   },
   "cell_type": "code",
   "source": [
    "df['Price'] = df['Price'].apply(lambda x: float(re.sub(r'[£, per bottle]', '', x.strip())) if pd.notnull(x) else np.nan)\n",
    "\n",
    "# Extract ABV values as float\n",
    "df['ABV'] = df['ABV'].apply(lambda x: float(re.search(r'(\\d+\\.\\d+)', x).group(1)) if pd.notnull(x) else np.nan)\n",
    "\n",
    "# Map 'Acidity' qualitative values to numerical (e.g., High = 3, Medium = 2, Low = 1)\n",
    "acidity_map = {'High': 3, 'Medium': 2, 'Low': 1}\n",
    "df['Acidity'] = df['Acidity'].map(acidity_map)\n",
    "\n",
    "# Filter rows where these values are not null\n",
    "cleaned_data = df[['Price', 'ABV', 'Acidity']].dropna()"
   ],
   "id": "94079cdf06b3182e",
   "outputs": [],
   "execution_count": 10
  },
  {
   "metadata": {},
   "cell_type": "code",
   "source": "",
   "id": "721c9a5eccea6226",
   "outputs": [],
   "execution_count": null
  }
 ],
 "metadata": {
  "kernelspec": {
   "display_name": "Python 3",
   "language": "python",
   "name": "python3"
  },
  "language_info": {
   "codemirror_mode": {
    "name": "ipython",
    "version": 2
   },
   "file_extension": ".py",
   "mimetype": "text/x-python",
   "name": "python",
   "nbconvert_exporter": "python",
   "pygments_lexer": "ipython2",
   "version": "2.7.6"
  }
 },
 "nbformat": 4,
 "nbformat_minor": 5
}
