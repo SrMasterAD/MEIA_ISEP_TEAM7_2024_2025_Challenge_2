{
 "cells": [
  {
   "metadata": {},
   "cell_type": "markdown",
   "source": "### Load data and cleaning unnecessary columns",
   "id": "b29ae5b13128cdd9"
  },
  {
   "cell_type": "code",
   "id": "initial_id",
   "metadata": {
    "collapsed": true,
    "ExecuteTime": {
     "end_time": "2024-12-18T18:58:31.482389Z",
     "start_time": "2024-12-18T18:58:31.474952Z"
    }
   },
   "source": [
    "import pandas as pd\n",
    "import re\n",
    "import numpy as np\n",
    "\n",
    "file_path = '../../datasets/merged_wine_dataset.csv'\n",
    "df = pd.read_csv(file_path)\n",
    "df = df[['WineName', 'Price', 'ABV', 'Acidity']]"
   ],
   "outputs": [],
   "execution_count": 29
  },
  {
   "metadata": {},
   "cell_type": "markdown",
   "source": "### Dataset normalization",
   "id": "b8c5e81eff210df"
  },
  {
   "metadata": {
    "ExecuteTime": {
     "end_time": "2024-12-18T18:58:31.506197Z",
     "start_time": "2024-12-18T18:58:31.501834Z"
    }
   },
   "cell_type": "code",
   "source": [
    "df['Price'] = df['Price'].apply(lambda x: float(re.sub(r'[£, per bottle]', '', x.strip())) if pd.notnull(x) else np.nan)\n",
    "\n",
    "# Extract ABV values as float\n",
    "df['ABV'] = df['ABV'].apply(lambda x: float(re.search(r'(\\d+\\.\\d+)', x).group(1)) if pd.notnull(x) else np.nan)\n",
    "\n",
    "# Map 'Acidity' qualitative values to numerical (e.g., High = 3, Medium = 2, Low = 1)\n",
    "acidity_map = {'High': 3, 'Medium': 2, 'Low': 1}\n",
    "df['Acidity'] = df['Acidity'].map(acidity_map)\n",
    "\n",
    "# Filter rows where these values are not null\n",
    "df = df.dropna()"
   ],
   "id": "94079cdf06b3182e",
   "outputs": [],
   "execution_count": 30
  },
  {
   "metadata": {},
   "cell_type": "markdown",
   "source": "### TOPSIS Implementation",
   "id": "19f1768a06626c74"
  },
  {
   "metadata": {
    "ExecuteTime": {
     "end_time": "2024-12-18T19:03:41.263344Z",
     "start_time": "2024-12-18T19:03:40.009353Z"
    }
   },
   "cell_type": "code",
   "source": [
    "from sklearn.preprocessing import MinMaxScaler\n",
    "\n",
    "print(\"Enter weights for each criterion (total should add up to 1):\")\n",
    "price_weight = float(input(\"Weight for Price (e.g., 0.3): \"))\n",
    "abv_weight = float(input(\"Weight for ABV (e.g., 0.4): \"))\n",
    "acidity_weight = float(input(\"Weight for Acidity (e.g., 0.3): \"))\n",
    "\n",
    "# Normalize weights\n",
    "total_weight = price_weight + abv_weight + acidity_weight\n",
    "price_weight /= total_weight\n",
    "abv_weight /= total_weight\n",
    "acidity_weight /= total_weight\n",
    "weights = np.array([price_weight, abv_weight, acidity_weight])\n",
    "\n",
    "# Infer criterion type based on weights\n",
    "threshold = 0.35  # Example threshold for determining 'benefit' vs. 'cost'\n",
    "criteria_types = [\n",
    "    'benefit' if price_weight > threshold else 'cost',\n",
    "    'benefit' if abv_weight > threshold else 'cost',\n",
    "    'benefit' if acidity_weight > threshold else 'cost'\n",
    "]\n",
    "\n",
    "# Display inferred criteria types for confirmation\n",
    "print(\"\\nInferred Criterion Types:\")\n",
    "print(f\"Price: {criteria_types[0]}\")\n",
    "print(f\"ABV: {criteria_types[1]}\")\n",
    "print(f\"Acidity: {criteria_types[2]}\")\n",
    "\n",
    "# Normalize the matrix using MinMax scaling\n",
    "topsis_matrix = df[['Price', 'ABV', 'Acidity']].values\n",
    "scaler = MinMaxScaler()\n",
    "normalized_matrix = scaler.fit_transform(topsis_matrix)\n",
    "\n",
    "# Weighted normalized decision matrix\n",
    "weighted_matrix = normalized_matrix * weights\n",
    "\n",
    "# Calculate ideal and anti-ideal solutions based on inferred criterion types\n",
    "ideal_solution = []\n",
    "anti_ideal_solution = []\n",
    "\n",
    "for i, criterion in enumerate(criteria_types):\n",
    "    if criterion == 'benefit':\n",
    "        ideal_solution.append(np.max(weighted_matrix[:, i]))  # Max for benefits\n",
    "        anti_ideal_solution.append(np.min(weighted_matrix[:, i]))  # Min for benefits\n",
    "    elif criterion == 'cost':\n",
    "        ideal_solution.append(np.min(weighted_matrix[:, i]))  # Min for costs\n",
    "        anti_ideal_solution.append(np.max(weighted_matrix[:, i]))  # Max for costs\n",
    "\n",
    "ideal_solution = np.array(ideal_solution)\n",
    "anti_ideal_solution = np.array(anti_ideal_solution)\n",
    "\n",
    "# Calculate distances to ideal and anti-ideal solutions\n",
    "distance_to_ideal = np.sqrt(np.sum((weighted_matrix - ideal_solution) ** 2, axis=1))\n",
    "distance_to_anti_ideal = np.sqrt(np.sum((weighted_matrix - anti_ideal_solution) ** 2, axis=1))\n",
    "\n",
    "# Calculate TOPSIS scores\n",
    "topsis_score = distance_to_anti_ideal / (distance_to_ideal + distance_to_anti_ideal)\n",
    "\n",
    "# Add TOPSIS score to the dataframe\n",
    "df['User_TOPSIS_Score'] = topsis_score\n",
    "\n",
    "# Sort results by the new TOPSIS score\n",
    "sorted_df = df.sort_values(by='User_TOPSIS_Score', ascending=False).reset_index(drop=True)\n",
    "\n",
    "# Display the sorted results with wine names\n",
    "print(\"\\nTop wines based on your preferences:\")\n",
    "print(sorted_df[['WineName', 'Price', 'ABV', 'Acidity', 'User_TOPSIS_Score']].head())  # Display top 5 results\n",
    "\n",
    "# Optionally save the results to a CSV file\n",
    "sorted_df.to_csv('topsis_results_with_wine_names.csv', index=False)"
   ],
   "id": "423ec7db3ea98163",
   "outputs": [
    {
     "name": "stdout",
     "output_type": "stream",
     "text": [
      "Enter weights for each criterion (total should add up to 1):\n"
     ]
    },
    {
     "ename": "KeyboardInterrupt",
     "evalue": "Interrupted by user",
     "output_type": "error",
     "traceback": [
      "\u001B[0;31m---------------------------------------------------------------------------\u001B[0m",
      "\u001B[0;31mKeyboardInterrupt\u001B[0m                         Traceback (most recent call last)",
      "Cell \u001B[0;32mIn[32], line 2\u001B[0m\n\u001B[1;32m      1\u001B[0m \u001B[38;5;28mprint\u001B[39m(\u001B[38;5;124m\"\u001B[39m\u001B[38;5;124mEnter weights for each criterion (total should add up to 1):\u001B[39m\u001B[38;5;124m\"\u001B[39m)\n\u001B[0;32m----> 2\u001B[0m price_weight \u001B[38;5;241m=\u001B[39m \u001B[38;5;28mfloat\u001B[39m(\u001B[38;5;28minput\u001B[39m(\u001B[38;5;124m\"\u001B[39m\u001B[38;5;124mWeight for Price (e.g., 0.3): \u001B[39m\u001B[38;5;124m\"\u001B[39m))\n\u001B[1;32m      3\u001B[0m abv_weight \u001B[38;5;241m=\u001B[39m \u001B[38;5;28mfloat\u001B[39m(\u001B[38;5;28minput\u001B[39m(\u001B[38;5;124m\"\u001B[39m\u001B[38;5;124mWeight for ABV (e.g., 0.4): \u001B[39m\u001B[38;5;124m\"\u001B[39m))\n\u001B[1;32m      4\u001B[0m acidity_weight \u001B[38;5;241m=\u001B[39m \u001B[38;5;28mfloat\u001B[39m(\u001B[38;5;28minput\u001B[39m(\u001B[38;5;124m\"\u001B[39m\u001B[38;5;124mWeight for Acidity (e.g., 0.3): \u001B[39m\u001B[38;5;124m\"\u001B[39m))\n",
      "File \u001B[0;32m~/miniconda3/lib/python3.12/site-packages/ipykernel/kernelbase.py:1282\u001B[0m, in \u001B[0;36mKernel.raw_input\u001B[0;34m(self, prompt)\u001B[0m\n\u001B[1;32m   1280\u001B[0m     msg \u001B[38;5;241m=\u001B[39m \u001B[38;5;124m\"\u001B[39m\u001B[38;5;124mraw_input was called, but this frontend does not support input requests.\u001B[39m\u001B[38;5;124m\"\u001B[39m\n\u001B[1;32m   1281\u001B[0m     \u001B[38;5;28;01mraise\u001B[39;00m StdinNotImplementedError(msg)\n\u001B[0;32m-> 1282\u001B[0m \u001B[38;5;28;01mreturn\u001B[39;00m \u001B[38;5;28mself\u001B[39m\u001B[38;5;241m.\u001B[39m_input_request(\n\u001B[1;32m   1283\u001B[0m     \u001B[38;5;28mstr\u001B[39m(prompt),\n\u001B[1;32m   1284\u001B[0m     \u001B[38;5;28mself\u001B[39m\u001B[38;5;241m.\u001B[39m_parent_ident[\u001B[38;5;124m\"\u001B[39m\u001B[38;5;124mshell\u001B[39m\u001B[38;5;124m\"\u001B[39m],\n\u001B[1;32m   1285\u001B[0m     \u001B[38;5;28mself\u001B[39m\u001B[38;5;241m.\u001B[39mget_parent(\u001B[38;5;124m\"\u001B[39m\u001B[38;5;124mshell\u001B[39m\u001B[38;5;124m\"\u001B[39m),\n\u001B[1;32m   1286\u001B[0m     password\u001B[38;5;241m=\u001B[39m\u001B[38;5;28;01mFalse\u001B[39;00m,\n\u001B[1;32m   1287\u001B[0m )\n",
      "File \u001B[0;32m~/miniconda3/lib/python3.12/site-packages/ipykernel/kernelbase.py:1325\u001B[0m, in \u001B[0;36mKernel._input_request\u001B[0;34m(self, prompt, ident, parent, password)\u001B[0m\n\u001B[1;32m   1322\u001B[0m \u001B[38;5;28;01mexcept\u001B[39;00m \u001B[38;5;167;01mKeyboardInterrupt\u001B[39;00m:\n\u001B[1;32m   1323\u001B[0m     \u001B[38;5;66;03m# re-raise KeyboardInterrupt, to truncate traceback\u001B[39;00m\n\u001B[1;32m   1324\u001B[0m     msg \u001B[38;5;241m=\u001B[39m \u001B[38;5;124m\"\u001B[39m\u001B[38;5;124mInterrupted by user\u001B[39m\u001B[38;5;124m\"\u001B[39m\n\u001B[0;32m-> 1325\u001B[0m     \u001B[38;5;28;01mraise\u001B[39;00m \u001B[38;5;167;01mKeyboardInterrupt\u001B[39;00m(msg) \u001B[38;5;28;01mfrom\u001B[39;00m \u001B[38;5;28;01mNone\u001B[39;00m\n\u001B[1;32m   1326\u001B[0m \u001B[38;5;28;01mexcept\u001B[39;00m \u001B[38;5;167;01mException\u001B[39;00m:\n\u001B[1;32m   1327\u001B[0m     \u001B[38;5;28mself\u001B[39m\u001B[38;5;241m.\u001B[39mlog\u001B[38;5;241m.\u001B[39mwarning(\u001B[38;5;124m\"\u001B[39m\u001B[38;5;124mInvalid Message:\u001B[39m\u001B[38;5;124m\"\u001B[39m, exc_info\u001B[38;5;241m=\u001B[39m\u001B[38;5;28;01mTrue\u001B[39;00m)\n",
      "\u001B[0;31mKeyboardInterrupt\u001B[0m: Interrupted by user"
     ]
    }
   ],
   "execution_count": 32
  },
  {
   "metadata": {},
   "cell_type": "code",
   "outputs": [],
   "execution_count": null,
   "source": "",
   "id": "2f2fe84d52b4fc80"
  }
 ],
 "metadata": {
  "kernelspec": {
   "display_name": "Python 3",
   "language": "python",
   "name": "python3"
  },
  "language_info": {
   "codemirror_mode": {
    "name": "ipython",
    "version": 2
   },
   "file_extension": ".py",
   "mimetype": "text/x-python",
   "name": "python",
   "nbconvert_exporter": "python",
   "pygments_lexer": "ipython2",
   "version": "2.7.6"
  }
 },
 "nbformat": 4,
 "nbformat_minor": 5
}
